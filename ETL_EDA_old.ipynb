{
 "cells": [
  {
   "cell_type": "markdown",
   "metadata": {},
   "source": [
    "# ETL_EDA\n",
    "This file records the process of acquiring raw data, traforming them, and loading them into a MongoDB. The data are store (almost) in their raw form."
   ]
  },
  {
   "cell_type": "markdown",
   "metadata": {},
   "source": [
    "## 1. Raw Data from BPA \n",
    "The [dataset](https://transmission.bpa.gov/business/operations/Wind/baltwg.txt) is a continuously updated txt file in csv format. It contains the energy producation and load in the last 5 days. There will be some blank lines at the end for today. It can be retrieved simply by making `requests` without parameters. For more complicated API call, you may need to add query parameters."
   ]
  },
  {
   "cell_type": "code",
   "execution_count": 1,
   "metadata": {},
   "outputs": [
    {
     "name": "stdout",
     "output_type": "stream",
     "text": [
      "BPA Balancing Authority Load & Total Wind Generation\r\n",
      "at 5-minute intervals, last 7 days\r\n",
      "Dates: 27Nov2019 - 04Dec2019 (last updated 3Dec2019 06:15:59) Pacific Time\r\n",
      "Based on 5-min MW readings from the BPA SCADA system for points 45583, 79687, 79682, 164377, 70681\r\n",
      "\r\n",
      "This represents loads and resources in BPA's Balancing Authority (BA) including some that are not BPA's.\r\n",
      "It does not include BPA loads served by transfer, scheduled out of region,\r\n",
      "or scheduled to customers with their own BAs such as Seattle and Tacoma\r\n",
      "\r\n",
      "BPA/Technical Operations (TOT-OpInfo@bpa.gov)\r\n",
      "\r\n",
      "Date/Time       \tLoad\tWind\tHydro\tFossil/Biomass\tNuclear\r\n",
      "11/27/2019 00:00\t6586\t2239\t5249\t496\t1167\r\n",
      "11/27/2019 00:05\t6612\t2259\t5222\t497\t1168\r\n",
      "11/27/2019 00:10\t6627\t2257\t5156\t495\t1167\r\n",
      "11/27/2019 00:15\t6640\t2248\t5144\t494\t1168\r\n",
      "11/27/2019 00:20\t6571\t2231\t5155\t493\t1167\r\n",
      "11/27/2019 00:25\t6597\t2217\t5149\t497\t1166\r\n",
      "11/27/2019 00:30\t6641\t2180\t5141\t491\t1170\r\n",
      "11/27/2019 00:35\t6615\t2168\t5183\t492\t1166\r\n",
      "11/27/2019 00:40\t6591\t2165\t5174\t4\n",
      "...\n",
      "2019 22:10\t\t\t\t\t\r\n",
      "12/03/2019 22:15\t\t\t\t\t\r\n",
      "12/03/2019 22:20\t\t\t\t\t\r\n",
      "12/03/2019 22:25\t\t\t\t\t\r\n",
      "12/03/2019 22:30\t\t\t\t\t\r\n",
      "12/03/2019 22:35\t\t\t\t\t\r\n",
      "12/03/2019 22:40\t\t\t\t\t\r\n",
      "12/03/2019 22:45\t\t\t\t\t\r\n",
      "12/03/2019 22:50\t\t\t\t\t\r\n",
      "12/03/2019 22:55\t\t\t\t\t\r\n",
      "12/03/2019 23:00\t\t\t\t\t\r\n",
      "12/03/2019 23:05\t\t\t\t\t\r\n",
      "12/03/2019 23:10\t\t\t\t\t\r\n",
      "12/03/2019 23:15\t\t\t\t\t\r\n",
      "12/03/2019 23:20\t\t\t\t\t\r\n",
      "12/03/2019 23:25\t\t\t\t\t\r\n",
      "12/03/2019 23:30\t\t\t\t\t\r\n",
      "12/03/2019 23:35\t\t\t\t\t\r\n",
      "12/03/2019 23:40\t\t\t\t\t\r\n",
      "12/03/2019 23:45\t\t\t\t\t\r\n",
      "12/03/2019 23:50\t\t\t\t\t\r\n",
      "12/03/2019 23:55\t\t\t\t\t\r\n",
      "\n"
     ]
    }
   ],
   "source": [
    "import requests\n",
    "\n",
    "url = \"https://transmission.bpa.gov/business/operations/Wind/baltwg.txt\"\n",
    "req = requests.get(url, timeout=0.5)\n",
    "req.raise_for_status()\n",
    "text = req.text\n",
    "print(text[:1000])\n",
    "print('...')\n",
    "print(text[-500:])"
   ]
  },
  {
   "cell_type": "markdown",
   "metadata": {},
   "source": [
    "## 2. Raw Data to Documents/Dicts\n",
    "Using pandas, it is simple to parse a in-memory string. The first few lines of description need to be skipped. Datetime conversion is made and blank lines are dropped. Now the data can be easily converted to a list of dicts which is what we want for the MongoDB."
   ]
  },
  {
   "cell_type": "code",
   "execution_count": 2,
   "metadata": {},
   "outputs": [
    {
     "data": {
      "text/html": [
       "<div>\n",
       "<style scoped>\n",
       "    .dataframe tbody tr th:only-of-type {\n",
       "        vertical-align: middle;\n",
       "    }\n",
       "\n",
       "    .dataframe tbody tr th {\n",
       "        vertical-align: top;\n",
       "    }\n",
       "\n",
       "    .dataframe thead th {\n",
       "        text-align: right;\n",
       "    }\n",
       "</style>\n",
       "<table border=\"1\" class=\"dataframe\">\n",
       "  <thead>\n",
       "    <tr style=\"text-align: right;\">\n",
       "      <th></th>\n",
       "      <th>Load</th>\n",
       "      <th>Wind</th>\n",
       "      <th>Hydro</th>\n",
       "      <th>Fossil/Biomass</th>\n",
       "      <th>Nuclear</th>\n",
       "      <th>Datetime</th>\n",
       "    </tr>\n",
       "  </thead>\n",
       "  <tbody>\n",
       "    <tr>\n",
       "      <th>0</th>\n",
       "      <td>6586.0</td>\n",
       "      <td>2239.0</td>\n",
       "      <td>5249.0</td>\n",
       "      <td>496.0</td>\n",
       "      <td>1167.0</td>\n",
       "      <td>2019-11-27 00:00:00</td>\n",
       "    </tr>\n",
       "    <tr>\n",
       "      <th>1</th>\n",
       "      <td>6612.0</td>\n",
       "      <td>2259.0</td>\n",
       "      <td>5222.0</td>\n",
       "      <td>497.0</td>\n",
       "      <td>1168.0</td>\n",
       "      <td>2019-11-27 00:05:00</td>\n",
       "    </tr>\n",
       "    <tr>\n",
       "      <th>2</th>\n",
       "      <td>6627.0</td>\n",
       "      <td>2257.0</td>\n",
       "      <td>5156.0</td>\n",
       "      <td>495.0</td>\n",
       "      <td>1167.0</td>\n",
       "      <td>2019-11-27 00:10:00</td>\n",
       "    </tr>\n",
       "    <tr>\n",
       "      <th>3</th>\n",
       "      <td>6640.0</td>\n",
       "      <td>2248.0</td>\n",
       "      <td>5144.0</td>\n",
       "      <td>494.0</td>\n",
       "      <td>1168.0</td>\n",
       "      <td>2019-11-27 00:15:00</td>\n",
       "    </tr>\n",
       "    <tr>\n",
       "      <th>4</th>\n",
       "      <td>6571.0</td>\n",
       "      <td>2231.0</td>\n",
       "      <td>5155.0</td>\n",
       "      <td>493.0</td>\n",
       "      <td>1167.0</td>\n",
       "      <td>2019-11-27 00:20:00</td>\n",
       "    </tr>\n",
       "  </tbody>\n",
       "</table>\n",
       "</div>"
      ],
      "text/plain": [
       "     Load    Wind   Hydro  Fossil/Biomass  Nuclear            Datetime\n",
       "0  6586.0  2239.0  5249.0           496.0   1167.0 2019-11-27 00:00:00\n",
       "1  6612.0  2259.0  5222.0           497.0   1168.0 2019-11-27 00:05:00\n",
       "2  6627.0  2257.0  5156.0           495.0   1167.0 2019-11-27 00:10:00\n",
       "3  6640.0  2248.0  5144.0           494.0   1168.0 2019-11-27 00:15:00\n",
       "4  6571.0  2231.0  5155.0           493.0   1167.0 2019-11-27 00:20:00"
      ]
     },
     "execution_count": 2,
     "metadata": {},
     "output_type": "execute_result"
    }
   ],
   "source": [
    "import pandas\n",
    "from io import StringIO\n",
    "\n",
    "df = pandas.read_csv(StringIO(text), skiprows=11, delimiter='\\t')\n",
    "df.columns = df.columns.str.strip()             # remove space in columns name\n",
    "df['Datetime'] = pandas.to_datetime(df['Date/Time'])\n",
    "df.drop(columns=['Date/Time'], axis=1, inplace=True)\n",
    "df.dropna(inplace=True)  \n",
    "df.head()"
   ]
  },
  {
   "cell_type": "markdown",
   "metadata": {},
   "source": [
    "## 3. Upsert MongoDB\n",
    "If we fetch the data frequently, there are lots of duplicate data entry between each run. The de-duplication happens at insertion. The MongoDB API to use is `collection.replace_one(filter=..., replacement=..., upsert=True)`. The statement matches a document in MongoDB with `filter`, replaces it with `replacement` if the document exists or inserts `replacement` into the database if `filter` matches nothing. "
   ]
  },
  {
   "cell_type": "code",
   "execution_count": 3,
   "metadata": {},
   "outputs": [],
   "source": [
    "import pymongo\n",
    "\n",
    "client = pymongo.MongoClient()"
   ]
  },
  {
   "cell_type": "code",
   "execution_count": 21,
   "metadata": {},
   "outputs": [
    {
     "name": "stdout",
     "output_type": "stream",
     "text": [
      "rows=1936, update=1928, insert=8\n"
     ]
    }
   ],
   "source": [
    "db = client.get_database(\"energy\")\n",
    "collection = db.get_collection(\"energy\")\n",
    "update_count = 0\n",
    "for record in df.to_dict('records'):\n",
    "    result = collection.replace_one(\n",
    "        filter={'Datetime': record['Datetime']},    # locate the document if exists\n",
    "        replacement=record,                         # latest document\n",
    "        upsert=True)                                # update if exists, insert if not\n",
    "    if result.matched_count > 0:\n",
    "        update_count += 1\n",
    "print(f\"rows={df.shape[0]}, update={update_count}, \"\n",
    "      f\"insert={df.shape[0]-update_count}\")"
   ]
  },
  {
   "cell_type": "code",
   "execution_count": null,
   "metadata": {},
   "outputs": [],
   "source": []
  },
  {
   "cell_type": "code",
   "execution_count": null,
   "metadata": {},
   "outputs": [],
   "source": []
  },
  {
   "cell_type": "code",
   "execution_count": null,
   "metadata": {},
   "outputs": [],
   "source": []
  },
  {
   "cell_type": "code",
   "execution_count": 52,
   "metadata": {},
   "outputs": [],
   "source": []
  },
  {
   "cell_type": "code",
   "execution_count": 1,
   "metadata": {},
   "outputs": [],
   "source": [
    "import pandas as pd\n",
    "import json\n",
    "import requests\n",
    "import pymongo"
   ]
  },
  {
   "cell_type": "code",
   "execution_count": 2,
   "metadata": {},
   "outputs": [],
   "source": [
    "client = pymongo.MongoClient()"
   ]
  },
  {
   "cell_type": "code",
   "execution_count": 6,
   "metadata": {},
   "outputs": [],
   "source": [
    "API_KEY = \"eb0b9ddfad9c74ffb30cffe72e9ad2c8\"\n",
    "BASE_URL = \"http://api.openweathermap.org/data/2.5/weather?units=imperial&APPID={}&q=\".format(API_KEY)"
   ]
  },
  {
   "cell_type": "code",
   "execution_count": 7,
   "metadata": {},
   "outputs": [],
   "source": [
    "CITY = \"Providence\"\n",
    "URL = BASE_URL + CITY"
   ]
  },
  {
   "cell_type": "code",
   "execution_count": 8,
   "metadata": {},
   "outputs": [],
   "source": [
    "req = requests.get(URL, timeout=0.5)\n",
    "req.raise_for_status()\n",
    "text = req.text\n",
    "weather_dict = json.loads(text)"
   ]
  },
  {
   "cell_type": "code",
   "execution_count": 9,
   "metadata": {
    "scrolled": true
   },
   "outputs": [
    {
     "data": {
      "text/plain": [
       "Timestamp('2019-12-03 14:07:28')"
      ]
     },
     "execution_count": 9,
     "metadata": {},
     "output_type": "execute_result"
    }
   ],
   "source": [
    "pd.to_datetime(weather_dict['dt'], unit='s')"
   ]
  },
  {
   "cell_type": "code",
   "execution_count": 10,
   "metadata": {},
   "outputs": [
    {
     "data": {
      "text/plain": [
       "{'coord': {'lon': -71.41, 'lat': 41.82},\n",
       " 'weather': [{'id': 500,\n",
       "   'main': 'Rain',\n",
       "   'description': 'light rain',\n",
       "   'icon': '10d'},\n",
       "  {'id': 600, 'main': 'Snow', 'description': 'light snow', 'icon': '13d'},\n",
       "  {'id': 701, 'main': 'Mist', 'description': 'mist', 'icon': '50d'}],\n",
       " 'base': 'stations',\n",
       " 'main': {'temp': 29.28,\n",
       "  'pressure': 995,\n",
       "  'humidity': 92,\n",
       "  'temp_min': 26.6,\n",
       "  'temp_max': 30.99},\n",
       " 'visibility': 1609,\n",
       " 'wind': {'speed': 17.22, 'deg': 340},\n",
       " 'snow': {'1h': 0.59},\n",
       " 'clouds': {'all': 90},\n",
       " 'dt': 1575382048,\n",
       " 'sys': {'type': 1,\n",
       "  'id': 5217,\n",
       "  'country': 'US',\n",
       "  'sunrise': 1575374134,\n",
       "  'sunset': 1575407733},\n",
       " 'timezone': -18000,\n",
       " 'id': 5224151,\n",
       " 'name': 'Providence',\n",
       " 'cod': 200}"
      ]
     },
     "execution_count": 10,
     "metadata": {},
     "output_type": "execute_result"
    }
   ],
   "source": [
    "weather_dict"
   ]
  },
  {
   "cell_type": "code",
   "execution_count": 60,
   "metadata": {},
   "outputs": [],
   "source": [
    "# time = pd.to_datetime(weather_dict['dt'], unit='s')\n",
    "# temp = weather_dict['main']['temp']\n",
    "# pressure = weather_dict['main']['pressure']\n",
    "# humidity = weather_dict['main']['humidity']\n",
    "# wind = weather_dict['wind']['speed']\n",
    "# city_id = weather_dict['id']"
   ]
  },
  {
   "cell_type": "code",
   "execution_count": 3,
   "metadata": {},
   "outputs": [],
   "source": [
    "db = client.get_database(\"weather\")"
   ]
  },
  {
   "cell_type": "code",
   "execution_count": 33,
   "metadata": {
    "scrolled": true
   },
   "outputs": [
    {
     "name": "stderr",
     "output_type": "stream",
     "text": [
      "/home/gitpod/.pyenv/versions/3.7.4/lib/python3.7/site-packages/ipykernel_launcher.py:2: DeprecationWarning: collection_names is deprecated. Use list_collection_names instead.\n",
      "  \n"
     ]
    }
   ],
   "source": [
    "data = {}\n",
    "for city in db.collection_names():\n",
    "    raw_city_data = list(db.get_collection(city).find())\n",
    "    clean_city_data = []\n",
    "    for measurements in raw_city_data:\n",
    "        del measurements['_id'] \n",
    "        measurements['dt'] = str(measurements['dt'])\n",
    "        clean_city_data.append(measurements)\n",
    "    data[city] = clean_city_data"
   ]
  },
  {
   "cell_type": "code",
   "execution_count": 37,
   "metadata": {},
   "outputs": [
    {
     "data": {
      "text/plain": [
       "{'coord': {'lon': -71.41, 'lat': 41.82},\n",
       " 'weather': [{'id': 500,\n",
       "   'main': 'Rain',\n",
       "   'description': 'light rain',\n",
       "   'icon': '10d'},\n",
       "  {'id': 600, 'main': 'Snow', 'description': 'light snow', 'icon': '13d'},\n",
       "  {'id': 701, 'main': 'Mist', 'description': 'mist', 'icon': '50d'}],\n",
       " 'base': 'stations',\n",
       " 'main': {'temp': 31.82,\n",
       "  'pressure': 992,\n",
       "  'humidity': 92,\n",
       "  'temp_min': 30,\n",
       "  'temp_max': 34},\n",
       " 'visibility': 6437,\n",
       " 'wind': {'speed': 13.87, 'deg': 310, 'gust': 20.8},\n",
       " 'snow': {'1h': 0.25},\n",
       " 'clouds': {'all': 90},\n",
       " 'dt': '2019-12-03 13:35:55',\n",
       " 'sys': {'type': 1,\n",
       "  'id': 5823,\n",
       "  'country': 'US',\n",
       "  'sunrise': 1575374134,\n",
       "  'sunset': 1575407733},\n",
       " 'timezone': -18000,\n",
       " 'id': 5224151,\n",
       " 'name': 'Providence',\n",
       " 'cod': 200}"
      ]
     },
     "execution_count": 37,
     "metadata": {},
     "output_type": "execute_result"
    }
   ],
   "source": [
    "data['Providence'][0]"
   ]
  },
  {
   "cell_type": "code",
   "execution_count": 34,
   "metadata": {},
   "outputs": [],
   "source": [
    "with open('weather_data.json', 'w') as f:\n",
    "    json.dump(data, f)"
   ]
  },
  {
   "cell_type": "code",
   "execution_count": null,
   "metadata": {},
   "outputs": [],
   "source": []
  },
  {
   "cell_type": "code",
   "execution_count": null,
   "metadata": {},
   "outputs": [],
   "source": []
  },
  {
   "cell_type": "code",
   "execution_count": 61,
   "metadata": {},
   "outputs": [],
   "source": [
    "db = client.get_database(\"test_weather\")\n",
    "collection = db.get_collection(\"test_pvd\")\n",
    "update_count = 0\n",
    "for record in [weather_dict]:\n",
    "    record['dt'] = pd.to_datetime(record['dt'], unit='s')\n",
    "    result = collection.replace_one(\n",
    "        filter={'id': record['id'], 'dt': record['dt']},    # locate the document if exists\n",
    "        replacement=record,                         # latest document\n",
    "        upsert=True)                                # update if exists, insert if not\n",
    "    if result.matched_count > 0:\n",
    "        update_count += 1"
   ]
  },
  {
   "cell_type": "code",
   "execution_count": 3,
   "metadata": {},
   "outputs": [],
   "source": [
    "pvd = client.get_database(\"weather\").get_collection(\"Providence\")"
   ]
  },
  {
   "cell_type": "code",
   "execution_count": 4,
   "metadata": {},
   "outputs": [
    {
     "data": {
      "text/plain": [
       "{'_id': ObjectId('5de680740c607955d13ffb0c'),\n",
       " 'coord': {'lon': -71.41, 'lat': 41.82},\n",
       " 'weather': [{'id': 500,\n",
       "   'main': 'Rain',\n",
       "   'description': 'light rain',\n",
       "   'icon': '10d'},\n",
       "  {'id': 600, 'main': 'Snow', 'description': 'light snow', 'icon': '13d'},\n",
       "  {'id': 701, 'main': 'Mist', 'description': 'mist', 'icon': '50d'}],\n",
       " 'base': 'stations',\n",
       " 'main': {'temp': 30.2,\n",
       "  'pressure': 994,\n",
       "  'humidity': 100,\n",
       "  'temp_min': 28,\n",
       "  'temp_max': 32},\n",
       " 'visibility': 2012,\n",
       " 'wind': {'speed': 9.17, 'deg': 300},\n",
       " 'snow': {'1h': 0.34},\n",
       " 'clouds': {'all': 90},\n",
       " 'dt': datetime.datetime(2019, 12, 3, 10, 28, 25),\n",
       " 'sys': {'type': 1,\n",
       "  'id': 5823,\n",
       "  'country': 'US',\n",
       "  'sunrise': 1575374134,\n",
       "  'sunset': 1575407733},\n",
       " 'timezone': -18000,\n",
       " 'id': 5224151,\n",
       " 'name': 'Providence',\n",
       " 'cod': 200}"
      ]
     },
     "execution_count": 4,
     "metadata": {},
     "output_type": "execute_result"
    }
   ],
   "source": [
    "list(pvd.find())[0]"
   ]
  },
  {
   "cell_type": "code",
   "execution_count": 30,
   "metadata": {},
   "outputs": [
    {
     "data": {
      "text/plain": [
       "{'_id': ObjectId('5de4423548471c4efb2759df'),\n",
       " 'coord': {'lon': -71.41, 'lat': 41.82},\n",
       " 'weather': [{'id': 500,\n",
       "   'main': 'Rain',\n",
       "   'description': 'light rain',\n",
       "   'icon': '10n'},\n",
       "  {'id': 600, 'main': 'Snow', 'description': 'light snow', 'icon': '13n'},\n",
       "  {'id': 701, 'main': 'Mist', 'description': 'mist', 'icon': '50n'}],\n",
       " 'base': 'stations',\n",
       " 'main': {'temp': 30.16,\n",
       "  'pressure': 1011,\n",
       "  'humidity': 100,\n",
       "  'temp_min': 25,\n",
       "  'temp_max': 35.6},\n",
       " 'visibility': 1609,\n",
       " 'wind': {'speed': 10.29, 'deg': 50},\n",
       " 'rain': {'1h': 0.45},\n",
       " 'snow': {'1h': 0.38},\n",
       " 'clouds': {'all': 90},\n",
       " 'dt': datetime.datetime(2019, 12, 1, 22, 40, 12),\n",
       " 'sys': {'type': 1,\n",
       "  'id': 5441,\n",
       "  'country': 'US',\n",
       "  'sunrise': 1575201210,\n",
       "  'sunset': 1575234966},\n",
       " 'timezone': -18000,\n",
       " 'id': 5224151,\n",
       " 'name': 'Providence',\n",
       " 'cod': 200}"
      ]
     },
     "execution_count": 30,
     "metadata": {},
     "output_type": "execute_result"
    }
   ],
   "source": [
    "client.get_database(\"test_weather\").get_collection(\"test_pvd\").find_one()"
   ]
  },
  {
   "cell_type": "code",
   "execution_count": null,
   "metadata": {},
   "outputs": [],
   "source": []
  }
 ],
 "metadata": {
  "kernelspec": {
   "display_name": "Python 3",
   "language": "python",
   "name": "python3"
  },
  "language_info": {
   "codemirror_mode": {
    "name": "ipython",
    "version": 3
   },
   "file_extension": ".py",
   "mimetype": "text/x-python",
   "name": "python",
   "nbconvert_exporter": "python",
   "pygments_lexer": "ipython3",
   "version": "3.7.4"
  }
 },
 "nbformat": 4,
 "nbformat_minor": 1
}
